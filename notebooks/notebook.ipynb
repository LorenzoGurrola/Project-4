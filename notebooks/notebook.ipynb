{
 "cells": [
  {
   "cell_type": "code",
   "execution_count": 1,
   "metadata": {},
   "outputs": [],
   "source": [
    "import numpy as np\n",
    "import pandas as pd\n",
    "from sklearn.model_selection import train_test_split\n",
    "import os\n",
    "import matplotlib.pyplot as plt\n",
    "%matplotlib inline\n",
    "import platform"
   ]
  },
  {
   "cell_type": "code",
   "execution_count": 2,
   "metadata": {},
   "outputs": [],
   "source": [
    "if True:\n",
    "    import sys\n",
    "    system = platform.system()\n",
    "    if system == \"Windows\":\n",
    "        sys.path.insert(0, 'C:/Users/Lorenzo/Desktop/Workspace/Github/Project-4/src')\n",
    "    elif system == \"Darwin\":\n",
    "        sys.path.insert(0, '/Users/lorenzogurrola/workspace/github.com/LorenzoGurrola/Project-4/src')\n",
    "    from data_loader import prepare_train, prepare_test"
   ]
  },
  {
   "cell_type": "code",
   "execution_count": 3,
   "metadata": {},
   "outputs": [],
   "source": [
    "def load_data():\n",
    "    data = pd.read_csv('../framingham.csv')\n",
    "    data = data.dropna()\n",
    "    train, test = train_test_split(data, train_size=0.85, random_state=10)\n",
    "    X_train, y_train, scalers = prepare_train(train)\n",
    "    X_test, y_test = prepare_test(test, scalers)\n",
    "    return X_train, y_train, X_test, y_test"
   ]
  },
  {
   "cell_type": "code",
   "execution_count": 4,
   "metadata": {},
   "outputs": [
    {
     "data": {
      "text/plain": [
       "(3107, 18)"
      ]
     },
     "execution_count": 4,
     "metadata": {},
     "output_type": "execute_result"
    }
   ],
   "source": [
    "X_train, y_train, X_test, y_test = load_data()\n",
    "X_train.shape"
   ]
  },
  {
   "cell_type": "code",
   "execution_count": 5,
   "metadata": {},
   "outputs": [
    {
     "data": {
      "text/plain": [
       "array([[ 1.        ,  1.45632121,  1.        , ...,  0.        ,\n",
       "         0.        ,  1.        ],\n",
       "       [ 1.        ,  1.45632121,  1.        , ...,  0.        ,\n",
       "         0.        ,  0.        ],\n",
       "       [ 1.        ,  0.8710576 ,  1.        , ...,  0.        ,\n",
       "         1.        ,  0.        ],\n",
       "       ...,\n",
       "       [ 0.        ,  0.51989944,  0.        , ...,  0.        ,\n",
       "         0.        ,  0.        ],\n",
       "       [ 0.        , -0.29946961,  1.        , ...,  1.        ,\n",
       "         0.        ,  0.        ],\n",
       "       [ 1.        , -1.46999683,  1.        , ...,  0.        ,\n",
       "         0.        ,  1.        ]])"
      ]
     },
     "execution_count": 5,
     "metadata": {},
     "output_type": "execute_result"
    }
   ],
   "source": [
    "X_train"
   ]
  },
  {
   "cell_type": "code",
   "execution_count": 21,
   "metadata": {},
   "outputs": [],
   "source": [
    "def initialize_params(n, h):\n",
    "    W1 = np.random.randn(n, h) * 0.1\n",
    "    b1 = np.zeros((1, h))\n",
    "    w2 = np.random.randn(h, 1) * 0.1\n",
    "    b2 = np.zeros((1, 1))\n",
    "    params = {'W1':W1, 'b1':b1, 'w2':w2, 'b2':b2}\n",
    "    param_count = n * h + 2 * h + 1\n",
    "    print(f'initialized {param_count} total trainable params with {h} hidden units and {n} input features')\n",
    "    return params"
   ]
  },
  {
   "cell_type": "code",
   "execution_count": 22,
   "metadata": {},
   "outputs": [],
   "source": [
    "def relu(z):\n",
    "    return np.maximum(0, z)"
   ]
  },
  {
   "cell_type": "code",
   "execution_count": 23,
   "metadata": {},
   "outputs": [],
   "source": [
    "def sigmoid(z):\n",
    "    a = 1/(1 + np.exp(-z))\n",
    "    return a"
   ]
  },
  {
   "cell_type": "code",
   "execution_count": 24,
   "metadata": {},
   "outputs": [],
   "source": [
    "def forward(X, params):\n",
    "    W1 = params['W1']\n",
    "    b1 = params['b1']\n",
    "    w2 = params['w2']\n",
    "    b2 = params['b2']\n",
    "\n",
    "    Z1 = X @ W1 + b1\n",
    "    A1 = relu(Z1)\n",
    "\n",
    "    inter_vals = {'Z1':Z1, 'A1':A1}\n",
    "\n",
    "    z2 = A1 @ w2 + b2\n",
    "    a2 = sigmoid(z2)\n",
    "\n",
    "    return a2, inter_vals"
   ]
  },
  {
   "cell_type": "code",
   "execution_count": 25,
   "metadata": {},
   "outputs": [],
   "source": [
    "def calculate_cost(yhat, y):\n",
    "    m = y.shape[0]\n",
    "    losses = y * np.log(yhat) + (1 - y) * np.log(1 - yhat)\n",
    "    cost = -np.sum(losses, axis=0, keepdims=True)/m\n",
    "    return cost"
   ]
  },
  {
   "cell_type": "code",
   "execution_count": 32,
   "metadata": {},
   "outputs": [],
   "source": [
    "def backward(y, yhat, inter_vals, X, params):\n",
    "    m = y.shape[0]\n",
    "    A1 = inter_vals['A1']\n",
    "    Z1 = inter_vals['Z1']\n",
    "    w2 = params['w2']\n",
    "    dc_dyhat = (-1/m) * ((y/yhat) - ((1 - y)/(1 - yhat)))\n",
    "    dyhat_dz2 = yhat * (1 - yhat)\n",
    "    dc_dz2 = dc_dyhat * dyhat_dz2\n",
    "    dc_db2 = np.sum(dc_dz2, axis=0, keepdims=True)\n",
    "    dc_dw2 = np.matmul(A1.T, dc_dz2)\n",
    "\n",
    "    dc_dA1 = np.matmul(dc_dz2, w2)\n",
    "    dA1_Z1 = np.where(Z1 >= 0, 1, 0)\n",
    "    dc_dZ1 = np.matmul(dc_dA1, dA1_Z1)\n",
    "    dc_db1 = np.sum(dc_dZ1, axis=0, keepdims=True)\n",
    "    dc_dW1 = np.matmul(X.T, dc_dZ1)\n",
    "\n",
    "    grads = {'dW1':dc_dW1, 'db1':dc_db1, 'dW2':dc_dw2, 'db2':dc_db2}\n",
    "    "
   ]
  },
  {
   "cell_type": "code",
   "execution_count": 33,
   "metadata": {},
   "outputs": [
    {
     "name": "stdout",
     "output_type": "stream",
     "text": [
      "initialized 61 total trainable params with 3 hidden units and 18 input features\n"
     ]
    }
   ],
   "source": [
    "n = 18\n",
    "h = 3\n",
    "\n",
    "params = initialize_params(n, h)"
   ]
  },
  {
   "cell_type": "code",
   "execution_count": 34,
   "metadata": {},
   "outputs": [],
   "source": [
    "yhat, inter_vals = forward(X_train, params)"
   ]
  },
  {
   "cell_type": "code",
   "execution_count": 35,
   "metadata": {},
   "outputs": [],
   "source": [
    "cost = calculate_cost(yhat, y_train)"
   ]
  },
  {
   "cell_type": "code",
   "execution_count": 36,
   "metadata": {},
   "outputs": [
    {
     "ename": "ValueError",
     "evalue": "matmul: Input operand 1 has a mismatch in its core dimension 0, with gufunc signature (n?,k),(k,m?)->(n?,m?) (size 3 is different from 1)",
     "output_type": "error",
     "traceback": [
      "\u001b[1;31m---------------------------------------------------------------------------\u001b[0m",
      "\u001b[1;31mValueError\u001b[0m                                Traceback (most recent call last)",
      "Cell \u001b[1;32mIn[36], line 1\u001b[0m\n\u001b[1;32m----> 1\u001b[0m grads \u001b[38;5;241m=\u001b[39m \u001b[43mbackward\u001b[49m\u001b[43m(\u001b[49m\u001b[43my_train\u001b[49m\u001b[43m,\u001b[49m\u001b[43m \u001b[49m\u001b[43myhat\u001b[49m\u001b[43m,\u001b[49m\u001b[43m \u001b[49m\u001b[43minter_vals\u001b[49m\u001b[43m,\u001b[49m\u001b[43m \u001b[49m\u001b[43mX_train\u001b[49m\u001b[43m,\u001b[49m\u001b[43m \u001b[49m\u001b[43mparams\u001b[49m\u001b[43m)\u001b[49m\n",
      "Cell \u001b[1;32mIn[32], line 12\u001b[0m, in \u001b[0;36mbackward\u001b[1;34m(y, yhat, inter_vals, X, params)\u001b[0m\n\u001b[0;32m      9\u001b[0m dc_db2 \u001b[38;5;241m=\u001b[39m np\u001b[38;5;241m.\u001b[39msum(dc_dz2, axis\u001b[38;5;241m=\u001b[39m\u001b[38;5;241m0\u001b[39m, keepdims\u001b[38;5;241m=\u001b[39m\u001b[38;5;28;01mTrue\u001b[39;00m)\n\u001b[0;32m     10\u001b[0m dc_dw2 \u001b[38;5;241m=\u001b[39m np\u001b[38;5;241m.\u001b[39mmatmul(A1\u001b[38;5;241m.\u001b[39mT, dc_dz2)\n\u001b[1;32m---> 12\u001b[0m dc_dA1 \u001b[38;5;241m=\u001b[39m \u001b[43mnp\u001b[49m\u001b[38;5;241;43m.\u001b[39;49m\u001b[43mmatmul\u001b[49m\u001b[43m(\u001b[49m\u001b[43mdc_dz2\u001b[49m\u001b[43m,\u001b[49m\u001b[43m \u001b[49m\u001b[43mw2\u001b[49m\u001b[43m)\u001b[49m\n\u001b[0;32m     13\u001b[0m dA1_Z1 \u001b[38;5;241m=\u001b[39m np\u001b[38;5;241m.\u001b[39mwhere(Z1 \u001b[38;5;241m>\u001b[39m\u001b[38;5;241m=\u001b[39m \u001b[38;5;241m0\u001b[39m, \u001b[38;5;241m1\u001b[39m, \u001b[38;5;241m0\u001b[39m)\n\u001b[0;32m     14\u001b[0m dc_dZ1 \u001b[38;5;241m=\u001b[39m np\u001b[38;5;241m.\u001b[39mmatmul(dc_dA1, dA1_Z1)\n",
      "\u001b[1;31mValueError\u001b[0m: matmul: Input operand 1 has a mismatch in its core dimension 0, with gufunc signature (n?,k),(k,m?)->(n?,m?) (size 3 is different from 1)"
     ]
    }
   ],
   "source": [
    "grads = backward(y_train, yhat, inter_vals, X_train, params)"
   ]
  },
  {
   "cell_type": "code",
   "execution_count": null,
   "metadata": {},
   "outputs": [],
   "source": []
  }
 ],
 "metadata": {
  "kernelspec": {
   "display_name": "project1env",
   "language": "python",
   "name": "python3"
  },
  "language_info": {
   "codemirror_mode": {
    "name": "ipython",
    "version": 3
   },
   "file_extension": ".py",
   "mimetype": "text/x-python",
   "name": "python",
   "nbconvert_exporter": "python",
   "pygments_lexer": "ipython3",
   "version": "3.12.3"
  }
 },
 "nbformat": 4,
 "nbformat_minor": 2
}
