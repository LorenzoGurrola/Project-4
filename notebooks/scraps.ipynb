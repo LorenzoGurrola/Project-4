{
 "cells": [
  {
   "cell_type": "code",
   "execution_count": null,
   "metadata": {},
   "outputs": [],
   "source": [
    "import numpy as np"
   ]
  },
  {
   "cell_type": "code",
   "execution_count": null,
   "metadata": {},
   "outputs": [],
   "source": [
    "def load_data():\n",
    "    std_dev = 1\n",
    "    mean = 5\n",
    "    x1 = np.linspace(1, 9, 100)\n",
    "    x2 = np.linspace(3, 11, 100)\n",
    "    y = ((x1 > 6) & (x2 > 9)).astype(int)\n",
    "    X = np.stack((x1, x2), axis=1)\n",
    "    X_train, X_test, y_train, y_test = train_test_split(X, y, train_size=0.8, random_state=10)\n",
    "    y_train = np.reshape(y_train, (y_train.shape[0], 1))\n",
    "    y_test = np.reshape(y_test, (y_test.shape[0], 1))\n",
    "    return X_train, X_test, y_train, y_test"
   ]
  }
 ],
 "metadata": {
  "kernelspec": {
   "display_name": "project3env",
   "language": "python",
   "name": "python3"
  },
  "language_info": {
   "name": "python",
   "version": "3.12.3"
  }
 },
 "nbformat": 4,
 "nbformat_minor": 2
}
